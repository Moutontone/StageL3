{
 "cells": [
  {
   "cell_type": "markdown",
   "metadata": {},
   "source": [
    "Titre\n",
    "==="
   ]
  },
  {
   "cell_type": "markdown",
   "metadata": {},
   "source": [
    "## Imports"
   ]
  },
  {
   "cell_type": "code",
   "execution_count": 2,
   "metadata": {},
   "outputs": [],
   "source": [
    "from random import random, seed, shuffle\n",
    "seed(123123)\n",
    "import numpy as np\n",
    "import matplotlib.pyplot as plt\n",
    "import time"
   ]
  },
  {
   "cell_type": "markdown",
   "metadata": {},
   "source": [
    "# Definition modele via une classe"
   ]
  },
  {
   "cell_type": "code",
   "execution_count": 3,
   "metadata": {},
   "outputs": [],
   "source": [
    "# Definition du modele de Bandit\n",
    "\n",
    "class Modele:\n",
    "    # paramètres du modèle\n",
    "    n = 15 # nombre d'item\n",
    "    k = 3 # nombre d'emplacement\n",
    "    \n",
    "    def __init__(self, teta, W, G):\n",
    "        # paramètre d'instance sous forme de liste\n",
    "        self.lam = [(Modele.k-i+1)/(2*Modele.k+1) for i in range(Modele.k)] #probabilité de satisfaction des emplacements\n",
    "        self.teta = teta # utility des items\n",
    "        self.W = W # attirance des items\n",
    "        self.G = G # gain lié a chaque item\n",
    "    \n",
    "    def recommander(self, A):\n",
    "        if len(A) != Modele.k:\n",
    "            raise ValueError(f\"taille de A ({len(A)}) différent de k ({Modele.k})\")\n",
    "        # cliques de l'utilisateur\n",
    "        C = [0 for _ in A] # liste des cliques (1 == clique)\n",
    "        i = 0\n",
    "        stop = False\n",
    "        while (not stop and i < len(A)) :\n",
    "            a = A[i]\n",
    "            # test attirance\n",
    "            if random() < self.W[a]:\n",
    "                C[i] = 1\n",
    "                # test satisfaction\n",
    "                if (random() < self.lam[i]):\n",
    "                    stop = True\n",
    "            i += 1\n",
    "        # phase d'achat si il y a eu des cliques\n",
    "        winner = -1\n",
    "        if sum(C) > 0:\n",
    "            # exp(teta) des items cliqués\n",
    "            lesTetas = [] \n",
    "            for i in range(len(A)):\n",
    "                if C[i] == 1:\n",
    "                    lesTetas.append(np.exp(teta[A[i]]))\n",
    "            # achat\n",
    "            p = random()\n",
    "            i = 1\n",
    "            while (p > sum(lesTetas[:i])/sum(lesTetas)):\n",
    "                i += 1\n",
    "            # winner\n",
    "            j = 0\n",
    "            while i > 0:\n",
    "                if C[j] == 1:\n",
    "                    i -= 1\n",
    "                j += 1\n",
    "            winner = A[j-1] \n",
    "        return C, winner\n",
    "    \n",
    "        "
   ]
  },
  {
   "cell_type": "code",
   "execution_count": 4,
   "metadata": {},
   "outputs": [],
   "source": [
    "# Calcul du gain a maximiser d'une proposition A\n",
    "\n",
    "def argmaxGtot(b):\n",
    "    maxS = []\n",
    "    maxG = 0\n",
    "    for S in sousEnsemblesk(b.k, b.n):\n",
    "        # print(f\"S : {S}\", end = \"\")\n",
    "        g = Gtot(b, S) \n",
    "        # print(f\" -> {g}\")\n",
    "        if  g > maxG:\n",
    "            maxG = g\n",
    "            maxS = S\n",
    "    return maxS\n",
    "\n",
    "def Gtot(b, A) :\n",
    "    return sum([pSousEnsemble(C, A, b.W, b.lam) * gainCliques(C, b.teta, b.G) for C in sousEnsembles(A)])\n",
    "\n",
    "# probabilité que les cliques donne le sous-ensemble C\n",
    "def pSousEnsemble(C, S, W, p_sat):\n",
    "    p = 1\n",
    "    for i, s in enumerate(S):\n",
    "        if s in C:\n",
    "            p *= pClique(i, S, W, p_sat) \n",
    "        else:\n",
    "            p *= 1 - pClique(i, S, W, p_sat)\n",
    "    return p\n",
    "\n",
    "# probabilité que l'élément i de S soit cliqué\n",
    "def pClique(i, S, W, p_sat):\n",
    "    pVu = 1 # proba que le i-ème élément de S soit vu\n",
    "    for j in range(i):\n",
    "        pVu *= (1-W[S[j]]*p_sat[j]) # proba que l'élément j+1 de S soit vu sachant le j-ème est vu\n",
    "    return pVu*W[S[i]] \n",
    "\n",
    "# gain d'un ensemble d'éléments cliqués C\n",
    "def gainCliques(C, teta, G):\n",
    "    sumTeta = sum([np.exp(t) for t in [teta[c] for c in C]])\n",
    "    return sum([np.exp(teta[i])/sumTeta * G[i] for i in C])\n",
    "\n",
    "# liste des sous-ensembles de l\n",
    "def sousEnsembles(l):\n",
    "    base = []   \n",
    "    lists = [base] \n",
    "    for i in range(len(l)): \n",
    "        orig = lists[:] \n",
    "        new = l[i] \n",
    "        for j in range(len(lists)): \n",
    "            lists[j] = lists[j] + [new] \n",
    "        lists = orig + lists \n",
    "          \n",
    "    return lists "
   ]
  },
  {
   "cell_type": "code",
   "execution_count": 5,
   "metadata": {},
   "outputs": [],
   "source": [
    "# différent algo KL-UCB\n",
    "\n",
    "# KL-UCB (version katariya)\n",
    "def kl_ucb(b,T, aff = False):\n",
    "    # initialisiation \n",
    "    U = [1 for _ in range(b.n)] # liste des moyennes optimistes\n",
    "    N = [1 for _ in range(b.n)] # nombre d'informations sur les éléments à t\n",
    "    Np = [0 for _ in range(b.n)] # nombre d'informations sur les éléments à t-1\n",
    "    W = [round(random()) for _ in range(b.n)] # estimation de W\n",
    "    G = [] # gains au cours du temps\n",
    "    # ...\n",
    "    for t in range(1,T+1):\n",
    "        Np = [n for n in N]\n",
    "        if aff: print(\"Temps \", t)\n",
    "        # maj des estimateur optimistes\n",
    "        U = UCBKL(W, Np, t)\n",
    "        if aff: print(f\"{t} > Np : {Np}\")\n",
    "        if aff: print(f\"{t} > U : {U}\")\n",
    "        if aff: print(f\"{t} > W : {W}\")\n",
    "        # calcul des elements à présenter\n",
    "        A = argmax_klucb(b, U)\n",
    "        # recommandation et mise à jour des estimateurs\n",
    "        C, w = b.recommander(A)\n",
    "        G.append(b.G[w] if w > -1 else 0)\n",
    "        if aff: print(f\"{t} > A {A}\")\n",
    "        if aff: print(f\"{t} > C = {C}, w = {w}\")\n",
    "        for k in range(Clast(C, b.k) + 1):\n",
    "            e = A[k]\n",
    "            N[e] += 1\n",
    "            if aff: print(f\"e {e}, W[e] {W[e]}, Np[e] {Np[e]}, N[e] {N[e]}, C[k] {C[k]} -> \", end = \"\")\n",
    "            W[e] = (Np[e] * W[e]  + C[k])/N[e]\n",
    "            if aff: print(W[e])\n",
    "        \n",
    "    return G\n",
    "\n",
    "# KL-UCB (version modifié  avec Gtot)\n",
    "def kl_ucb_mod(b,T, aff = False):\n",
    "    pass\n",
    "\n",
    "def Clast(C, k):\n",
    "    i = len(C) -1\n",
    "    while C[i] != 1 and i >= 0 :\n",
    "        i -= 1\n",
    "    if i < 0:\n",
    "        return k-1\n",
    "    return i"
   ]
  },
  {
   "cell_type": "code",
   "execution_count": 6,
   "metadata": {},
   "outputs": [],
   "source": [
    "# pour creer les sous ensembles de taille k de [n]\n",
    "def sousEnsemblesk(k, n):\n",
    "    E = []\n",
    "    rec_f(E,k,n-1,[])\n",
    "    return E[::-1]\n",
    "\n",
    "def rec_f(E,k,n,R):\n",
    "    if n < 0:\n",
    "        return\n",
    "    A = [e for e in R]\n",
    "    A.append(n)\n",
    "    if len(A) == k:\n",
    "        E.append(A)\n",
    "    else:\n",
    "        rec_f(E, k, n-1, A)\n",
    "    rec_f(E, k, n-1, R) "
   ]
  },
  {
   "cell_type": "code",
   "execution_count": 7,
   "metadata": {},
   "outputs": [],
   "source": [
    "# trouver la liste d'item a proposer\n",
    "\n",
    "def argmax_klucb(b, U):\n",
    "    V = [1 - i/b.k for i in range(b.k)]\n",
    "    f = lambda x: f_katariya(x, U, V)\n",
    "    maxS = []\n",
    "    maxG = 0\n",
    "    for S in sousEnsemblesk(b.k, b.n):\n",
    "        # print(f\"S : {S}\", end = \"\")\n",
    "        g = f(S) \n",
    "        # print(f\" -> {g}\")\n",
    "        if  g > maxG:\n",
    "            maxG = g\n",
    "            maxS = S\n",
    "    return maxS\n",
    "        \n",
    "def f_katariya(A, W, V):\n",
    "    p = 1\n",
    "    for k in range(len(A)):\n",
    "        p *= (1-V[k]*W[A[k]])\n",
    "    return 1 - p\n",
    "\n",
    "def argmax_clucb_mod(b, ):\n",
    "    pass"
   ]
  },
  {
   "cell_type": "code",
   "execution_count": 8,
   "metadata": {},
   "outputs": [],
   "source": [
    "# calcul de U en utilisant D_kl\n",
    "\n",
    "def UCBKL(W, Np, t):\n",
    "    U = [zero(W[i], Np[i], t) for i in range(len(W))]\n",
    "    return U\n",
    "\n",
    "def DKL(p,q):\n",
    "    return p * np.log(p/q) + (1-p)*np.log((1-p)/(1-q))\n",
    "\n",
    "def zero(w,n,t, e = 0.001):\n",
    "    if w == 0:\n",
    "        w += e/10\n",
    "    # on cherche un zero de la fonction :\n",
    "    kl = lambda q: n*DKL(w,q) - np.log(t) - 3* np.log(np.log(t))\n",
    "    if t == 1:\n",
    "        kl = lambda q: n*DKL(w,q) - np.log(t) - 3* np.log(t)\n",
    "    # dkl = lambda q: n*(-w/q + (1-w)/(1-q))\n",
    "    # par dichotomie\n",
    "    # print(f\"w {w}\\nn {n}\\nt {t}\")\n",
    "    a, b = w, 1\n",
    "    c = (a+b)/2\n",
    "    # while kl(c) > 0 or kl(c) < epsilon:    \n",
    "    while b-a > e:\n",
    "        # print(f\"[a, b] [{a}, {b}]\")\n",
    "        # print(f\"c {c} -> kl(c) {kl(c)}\")\n",
    "        if kl(c) < 0:\n",
    "            a = c\n",
    "        else:\n",
    "            b = c\n",
    "        c = (a+b)/2\n",
    "    return a"
   ]
  },
  {
   "cell_type": "markdown",
   "metadata": {},
   "source": [
    "# Tests"
   ]
  },
  {
   "cell_type": "code",
   "execution_count": 9,
   "metadata": {},
   "outputs": [],
   "source": [
    "# Instance sous hypothese forte\n",
    "Modele.n = 15 #15\n",
    "Modele.k = 3 #3\n",
    "MAXTETA = 5\n",
    "# teta = [random()*MAXTETA  for _ in range(n)] # utility des bras\n",
    "teta = [i/Modele.n*MAXTETA  for i in range(Modele.n)] # utility des bras\n",
    "W = [x/MAXTETA for x in teta] # attirance des bras\n",
    "G = [g for g in teta] # gain des bras\n",
    "\n",
    "b = Modele(teta, W, G)"
   ]
  },
  {
   "cell_type": "code",
   "execution_count": 10,
   "metadata": {},
   "outputs": [
    {
     "name": "stdout",
     "output_type": "stream",
     "text": [
      "recherche de la meilleure solution\n",
      "solution trouvé en 0.07023167610168457\n",
      "--- simulation star\n",
      "durée: 0.00731968879699707\n",
      "---- simulation algo\n"
     ]
    },
    {
     "name": "stderr",
     "output_type": "stream",
     "text": [
      "D:\\Programmes\\Anaconda3\\lib\\site-packages\\ipykernel_launcher.py:14: RuntimeWarning: divide by zero encountered in log\n",
      "  \n",
      "D:\\Programmes\\Anaconda3\\lib\\site-packages\\ipykernel_launcher.py:14: RuntimeWarning: invalid value encountered in log\n",
      "  \n"
     ]
    },
    {
     "name": "stdout",
     "output_type": "stream",
     "text": [
      "durée: 3.4314167499542236\n",
      "--- simulation random\n",
      "durée: 0.012905597686767578\n"
     ]
    },
    {
     "data": {
      "text/plain": [
       "[<matplotlib.lines.Line2D at 0x19983a3a668>]"
      ]
     },
     "execution_count": 10,
     "metadata": {},
     "output_type": "execute_result"
    },
    {
     "data": {
      "image/png": "[encoded data removed]",
      "text/plain": [
       "<Figure size 432x288 with 1 Axes>"
      ]
     },
     "metadata": {
      "needs_background": "light"
     },
     "output_type": "display_data"
    }
   ],
   "source": [
    "rseed = 1231234\n",
    "T = 1000\n",
    "Gstar = []\n",
    "Galgo = []\n",
    "Grand = []\n",
    "# meilleure solution\n",
    "print(\"recherche de la meilleure solution\")\n",
    "start_time = time.time()\n",
    "seed(rseed)\n",
    "A = argmaxGtot(b)\n",
    "print(f\"solution trouvé en {time.time()- start_time}\")\n",
    "print(\"--- simulation star\")\n",
    "start_time = time.time()\n",
    "for t in range(T):\n",
    "    C, w = b.recommander(A)\n",
    "    Gstar.append(b.G[w])\n",
    "print(f\"durée: {time.time()- start_time}\")\n",
    "# algo\n",
    "seed(rseed)\n",
    "print(\"---- simulation algo\")\n",
    "start_time = time.time()\n",
    "Galgo = kl_ucb(b, T)\n",
    "print(f\"durée: {time.time()- start_time}\")\n",
    "# random\n",
    "print(\"--- simulation random\")\n",
    "lesS = sousEnsemblesk(b.k, b.n)\n",
    "start_time = time.time()\n",
    "for t in range(T):\n",
    "    C, w = b.recommander(lesS[int(random()*len(lesS))])\n",
    "    Grand.append(b.G[w])\n",
    "print(f\"durée: {time.time()- start_time}\")\n",
    "# algo\n",
    "# affichage des résultats\n",
    "X = [i  for i in range(T)]\n",
    "Ystar = [Gstar[0] for _ in X]\n",
    "Yalgo = [Galgo[0] for _ in X]\n",
    "Yrand = [Grand[0] for _ in X]\n",
    "for i in range(1,T):\n",
    "    Ystar[i] = (i*Ystar[i-1] + Gstar[i])/(i+1)\n",
    "    Yalgo[i] = (i*Yalgo[i-1] + Galgo[i])/(i+1)\n",
    "    Yrand[i] = (i*Yrand[i-1] + Grand[i])/(i+1) \n",
    "plt.plot(X, Ystar, \"b\")\n",
    "plt.plot(X, Yalgo, \"r\")\n",
    "plt.plot(X, Yrand, \"g\")"
   ]
  },
  {
   "cell_type": "code",
   "execution_count": 407,
   "metadata": {
    "collapsed": true
   },
   "outputs": [
    {
     "name": "stdout",
     "output_type": "stream",
     "text": [
      " T 10000 > 4.599799999999765\n"
     ]
    }
   ],
   "source": [
    "for T in [10000]:\n",
    "    nb = 1\n",
    "    s = 0\n",
    "    for _ in range (nb):\n",
    "        s += klm_ucb(b, T, False)/nb\n",
    "    print(f\" T {T} > {s}\")"
   ]
  },
  {
   "cell_type": "code",
   "execution_count": 413,
   "metadata": {},
   "outputs": [
    {
     "name": "stdout",
     "output_type": "stream",
     "text": [
      " T 10000 > 4.593066666666326\n"
     ]
    }
   ],
   "source": [
    "# performance de l'algo\n",
    "seed(123123)\n",
    "for T in [10000]:\n",
    "    nb = 1\n",
    "    s = 0\n",
    "    for _ in range (nb):\n",
    "        s += klm_ucb(b, T, False)/nb\n",
    "    print(f\" T {T} > {s}\")"
   ]
  },
  {
   "cell_type": "code",
   "execution_count": 182,
   "metadata": {},
   "outputs": [],
   "source": [
    "def zero(w,n,t, e = 0.00001):\n",
    "    # on cherche un zero de la fonction :\n",
    "    kl = lambda q: n*DKL(w,q) - np.log(t) - 3* np.log(np.log(t))\n",
    "    # dkl = lambda q: n*(-w/q + (1-w)/(1-q))\n",
    "    # par dichotomie\n",
    "    a, b = w, 1\n",
    "    c = (a+b)/2\n",
    "    # while kl(c) > 0 or kl(c) < epsilon:    \n",
    "    while b-a > e:\n",
    "        #print(f\"[a, b] [{a}, {b}]\")\n",
    "        #print(f\"c {c} -> kl(c) {kl(c)}\")\n",
    "        if kl(c) < 0:\n",
    "            a = c\n",
    "        else:\n",
    "            b = c\n",
    "        c = (a+b)/2\n",
    "    return a\n",
    "    "
   ]
  },
  {
   "cell_type": "code",
   "execution_count": 407,
   "metadata": {},
   "outputs": [
    {
     "name": "stdout",
     "output_type": "stream",
     "text": [
      " T 10000 > 4.599799999999765\n"
     ]
    }
   ],
   "source": [
    "for T in [10000]:\n",
    "    nb = 1\n",
    "    s = 0\n",
    "    for _ in range (nb):\n",
    "        s += klm_ucb(b, T, False)/nb\n",
    "    print(f\" T {T} > {s}\")"
   ]
  },
  {
   "cell_type": "code",
   "execution_count": 333,
   "metadata": {},
   "outputs": [
    {
     "name": "stderr",
     "output_type": "stream",
     "text": [
      "D:\\Programmes\\Anaconda3\\lib\\site-packages\\ipykernel_launcher.py:8: RuntimeWarning: invalid value encountered in log\n",
      "  \n"
     ]
    },
    {
     "data": {
      "image/png": "[encoded data removed]",
      "text/plain": [
       "<Figure size 432x288 with 1 Axes>"
      ]
     },
     "metadata": {
      "needs_background": "light"
     },
     "output_type": "display_data"
    }
   ],
   "source": [
    "# test visualisation\n",
    "# paramètres\n",
    "w = 0.1\n",
    "N = 20\n",
    "t = 100\n",
    "d = 0.85\n",
    "X = np.linspace(w-0.001,0.999999, 100)\n",
    "# affichage\n",
    "Y = [N*DKL(w,x) for x in X]\n",
    "#plt.plot(X,Y)\n",
    "plt.plot(X, [Y[i] - Y2[i] for i in range(len(X))])\n",
    "Y2 = [np.log(t) + 3* np.log(np.log(t)) for _ in X]\n",
    "#plt.plot(X,Y2)\n",
    "DY = [N*(-w/x + (w-1)/(1-x)) for x in X]\n",
    "a = N*DKL(w,d) - d*N*(-w/d + (1-w)/(1-d))\n",
    "#Y3 = [a + x*N*(-w/d + (1-w)/(1-d)) for x in X]\n",
    "#plt.plot(X,Y3)\n",
    "#plt.axvline(w)"
   ]
  }
 ],
 "metadata": {
  "kernelspec": {
   "display_name": "Python 3",
   "language": "python",
   "name": "python3"
  },
  "language_info": {
   "codemirror_mode": {
    "name": "ipython",
    "version": 3
   },
   "file_extension": ".py",
   "mimetype": "text/x-python",
   "name": "python",
   "nbconvert_exporter": "python",
   "pygments_lexer": "ipython3",
   "version": "3.6.5"
  }
 },
 "nbformat": 4,
 "nbformat_minor": 4
}
