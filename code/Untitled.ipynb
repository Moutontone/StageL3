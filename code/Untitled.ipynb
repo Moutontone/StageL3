{
 "cells": [
  {
   "cell_type": "code",
   "execution_count": 1,
   "metadata": {},
   "outputs": [],
   "source": [
    "# import\n",
    "\n",
    "from Modeles import Modele\n",
    "from Algos import Kl_ucb, Random, Offline"
   ]
  },
  {
   "cell_type": "code",
   "execution_count": 2,
   "metadata": {},
   "outputs": [],
   "source": [
    "# creation d'un bandit \n",
    "\n",
    "MAXTETA = 5\n",
    "n = 15 #15\n",
    "k = 3 #3\n",
    "lam = [(k-i+1)/(2*k+1) for i in range(k)]\n",
    "teta = [i/n*MAXTETA  for i in range(n)] # utility des bras\n",
    "W = [x/MAXTETA for x in teta] # attirance des bras\n",
    "G = [g for g in teta] # gain des bras\n",
    "\n",
    "b = Modele(n, k, lam, teta, W, G)"
   ]
  },
  {
   "cell_type": "code",
   "execution_count": 3,
   "metadata": {},
   "outputs": [],
   "source": [
    "# charger un algo\n",
    "algoKl = Kl_ucb()\n",
    "algoKl.run(b, 1000)"
   ]
  },
  {
   "cell_type": "code",
   "execution_count": 4,
   "metadata": {},
   "outputs": [],
   "source": [
    "algoRdm = Random()\n",
    "algoRdm.run(b, 1000)"
   ]
  },
  {
   "cell_type": "code",
   "execution_count": 5,
   "metadata": {},
   "outputs": [],
   "source": [
    "algoOff = Offline()\n",
    "algoOff.run(b, 1000)"
   ]
  },
  {
   "cell_type": "code",
   "execution_count": 6,
   "metadata": {},
   "outputs": [],
   "source": [
    "def Ymoy(G):\n",
    "    X = [i  for i in range(len(G))]\n",
    "    Y = [G[0] for _ in X]\n",
    "    for i in range(1, len(G)):\n",
    "        Y[i] = (i*Y[i-1] + G[i])/(i+1)\n",
    "    return Y"
   ]
  },
  {
   "cell_type": "code",
   "execution_count": 9,
   "metadata": {},
   "outputs": [
    {
     "data": {
      "text/plain": [
       "[<matplotlib.lines.Line2D at 0x10cce1eda20>]"
      ]
     },
     "execution_count": 9,
     "metadata": {},
     "output_type": "execute_result"
    },
    {
     "data": {
      "image/png": "[encoded data removed]",
      "text/plain": [
       "<Figure size 432x288 with 1 Axes>"
      ]
     },
     "metadata": {
      "needs_background": "light"
     },
     "output_type": "display_data"
    }
   ],
   "source": [
    "import matplotlib.pyplot as plt\n",
    "YRdm = Ymoy(algoRdm.Gt)\n",
    "YKl = Ymoy(algoKl.Gt)\n",
    "YOff = Ymoy(algoOff.Gt)\n",
    "plt.plot(YRdm, \"b\")\n",
    "plt.plot(YKl, \"y\")\n",
    "plt.plot(YOff, \"r\")"
   ]
  }
 ],
 "metadata": {
  "kernelspec": {
   "display_name": "Python 3",
   "language": "python",
   "name": "python3"
  },
  "language_info": {
   "codemirror_mode": {
    "name": "ipython",
    "version": 3
   },
   "file_extension": ".py",
   "mimetype": "text/x-python",
   "name": "python",
   "nbconvert_exporter": "python",
   "pygments_lexer": "ipython3",
   "version": "3.6.5"
  }
 },
 "nbformat": 4,
 "nbformat_minor": 4
}
